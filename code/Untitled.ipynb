{
 "cells": [
  {
   "cell_type": "code",
   "execution_count": 26,
   "id": "distinct-arbitration",
   "metadata": {
    "ExecuteTime": {
     "end_time": "2021-05-08T09:01:16.446457Z",
     "start_time": "2021-05-08T09:01:16.443436Z"
    }
   },
   "outputs": [],
   "source": [
    "\n"
   ]
  },
  {
   "cell_type": "code",
   "execution_count": 29,
   "id": "seventh-medicaid",
   "metadata": {
    "ExecuteTime": {
     "end_time": "2021-05-08T09:05:04.483787Z",
     "start_time": "2021-05-08T09:05:04.474277Z"
    }
   },
   "outputs": [
    {
     "name": "stdout",
     "output_type": "stream",
     "text": [
      "81\n",
      "2021-03-20 00:26:41\n",
      "1616171201.0\n"
     ]
    }
   ],
   "source": [
    "import time\n",
    "f = open('0319.txt', 'r')\n",
    "\n",
    "for line in f.readlines():\n",
    "#     print(line.split('\\t'))\n",
    "    line = line.split('\\t')\n",
    "    num, dt = line[0], line[1][:-1]\n",
    "    timeArray = time.strptime(dt, \"%Y-%m-%d %H:%M:%S\")\n",
    "    #转换成时间戳\n",
    "    timestamp = time.mktime(timeArray)\n",
    "    print(num)\n",
    "    print(dt)\n",
    "    print(timestamp)\n",
    "    break\n",
    "#     break"
   ]
  },
  {
   "cell_type": "code",
   "execution_count": 34,
   "id": "looking-calibration",
   "metadata": {
    "ExecuteTime": {
     "end_time": "2021-05-08T09:06:23.397866Z",
     "start_time": "2021-05-08T09:06:23.395449Z"
    }
   },
   "outputs": [],
   "source": [
    "start_dt = '2021-03-19 13:30:00'\n",
    "start_timeArray = time.strptime(start_dt, \"%Y-%m-%d %H:%M:%S\")\n",
    "#转换成时间戳\n",
    "start_timestamp = time.mktime(start_timeArray)"
   ]
  },
  {
   "cell_type": "code",
   "execution_count": 35,
   "id": "false-thompson",
   "metadata": {
    "ExecuteTime": {
     "end_time": "2021-05-08T09:06:24.157282Z",
     "start_time": "2021-05-08T09:06:24.153924Z"
    }
   },
   "outputs": [
    {
     "data": {
      "text/plain": [
       "1616131800.0"
      ]
     },
     "execution_count": 35,
     "metadata": {},
     "output_type": "execute_result"
    }
   ],
   "source": [
    "start_timestamp"
   ]
  },
  {
   "cell_type": "code",
   "execution_count": 36,
   "id": "legal-prime",
   "metadata": {
    "ExecuteTime": {
     "end_time": "2021-05-08T09:06:25.542649Z",
     "start_time": "2021-05-08T09:06:25.539951Z"
    }
   },
   "outputs": [],
   "source": [
    "start_dt = '2021-03-19 13:35:00'\n",
    "start_timeArray = time.strptime(start_dt, \"%Y-%m-%d %H:%M:%S\")\n",
    "#转换成时间戳\n",
    "start_timestamp = time.mktime(start_timeArray)"
   ]
  },
  {
   "cell_type": "code",
   "execution_count": 37,
   "id": "athletic-haven",
   "metadata": {
    "ExecuteTime": {
     "end_time": "2021-05-08T09:06:25.933231Z",
     "start_time": "2021-05-08T09:06:25.929935Z"
    }
   },
   "outputs": [
    {
     "data": {
      "text/plain": [
       "1616132100.0"
      ]
     },
     "execution_count": 37,
     "metadata": {},
     "output_type": "execute_result"
    }
   ],
   "source": [
    "start_timestamp\n"
   ]
  },
  {
   "cell_type": "code",
   "execution_count": 38,
   "id": "imperial-ordering",
   "metadata": {
    "ExecuteTime": {
     "end_time": "2021-05-08T09:06:34.518593Z",
     "start_time": "2021-05-08T09:06:34.515104Z"
    }
   },
   "outputs": [
    {
     "data": {
      "text/plain": [
       "300.0"
      ]
     },
     "execution_count": 38,
     "metadata": {},
     "output_type": "execute_result"
    }
   ],
   "source": [
    "1616132100.0 - 1616131800.0"
   ]
  },
  {
   "cell_type": "code",
   "execution_count": null,
   "id": "controlling-charity",
   "metadata": {},
   "outputs": [],
   "source": [
    "cur = 1616131800.0\n",
    "for i in range(len(total)):\n",
    "    if total[i][0] < cur + 300:\n",
    "        "
   ]
  }
 ],
 "metadata": {
  "kernelspec": {
   "display_name": "Python(py)",
   "language": "python",
   "name": "py"
  },
  "language_info": {
   "codemirror_mode": {
    "name": "ipython",
    "version": 3
   },
   "file_extension": ".py",
   "mimetype": "text/x-python",
   "name": "python",
   "nbconvert_exporter": "python",
   "pygments_lexer": "ipython3",
   "version": "3.8.8"
  }
 },
 "nbformat": 4,
 "nbformat_minor": 5
}
