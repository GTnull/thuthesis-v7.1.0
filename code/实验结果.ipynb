{
 "cells": [
  {
   "cell_type": "code",
   "execution_count": null,
   "id": "primary-fence",
   "metadata": {
    "ExecuteTime": {
     "end_time": "2021-05-07T13:25:38.302585Z",
     "start_time": "2021-05-07T13:25:38.199894Z"
    }
   },
   "outputs": [],
   "source": []
  },
  {
   "cell_type": "code",
   "execution_count": 22,
   "id": "spectacular-owner",
   "metadata": {
    "ExecuteTime": {
     "end_time": "2021-05-08T03:22:22.848535Z",
     "start_time": "2021-05-08T03:22:22.664660Z"
    }
   },
   "outputs": [
    {
     "data": {
      "image/png": "[encoded data removed]",
      "text/plain": [
       "<Figure size 432x288 with 1 Axes>"
      ]
     },
     "metadata": {
      "needs_background": "light"
     },
     "output_type": "display_data"
    }
   ],
   "source": [
    "import numpy as np\n",
    "import matplotlib.pyplot as plt\n",
    "from matplotlib.ticker import MaxNLocator\n",
    "from collections import namedtuple\n",
    "\n",
    "n_groups = 6\n",
    "\n",
    "means_cicids = (97.01, 97.37, 94.41, 88.31, 91.16,90.18)\n",
    "std_cicids = (2, 3, 4, 1, 2,2)\n",
    "\n",
    "means_unsw = (94.73, 97.96, 96.82, 93.98, 92.11,94.30)\n",
    "std_unsw = (3, 5, 2, 3, 3,1)\n",
    "\n",
    "means_campus = (73.33, 74.01, 74.54, 53.01, 56.59,59.28)\n",
    "std_campus = (3, 5, 2, 3, 3,1)\n",
    "\n",
    "fig, ax = plt.subplots()\n",
    "\n",
    "index = np.arange(n_groups)\n",
    "bar_width = 0.2\n",
    "\n",
    "opacity = 0.8\n",
    "error_config = {'ecolor': '0.3'}\n",
    "\n",
    "rects1 = ax.bar(index, means_cicids, bar_width,\n",
    "                alpha=opacity, color='red',\n",
    "                yerr=std_cicids, error_kw=error_config,\n",
    "                label='CICIDS2017')\n",
    "\n",
    "rects2 = ax.bar(index + bar_width, means_unsw, bar_width,\n",
    "                alpha=opacity, color='yellow',\n",
    "                yerr=std_unsw, error_kw=error_config,\n",
    "                label='UNSW-NB15')\n",
    "\n",
    "rects3 = ax.bar(index + bar_width * 2, means_campus, bar_width,\n",
    "                alpha=opacity, color='blue',\n",
    "                yerr=std_campus, error_kw=error_config,\n",
    "                label='CAMPUS')\n",
    "\n",
    "ax.set_xlabel('Models')\n",
    "ax.set_ylabel('%')\n",
    "ax.set_title('Accuracy')\n",
    "ax.set_xticks(index + bar_width / 2)\n",
    "ax.set_xticklabels(('LR', 'DT', 'RF', 'RNN', 'LSTM','GRU'))\n",
    "ax.legend()\n",
    "\n",
    "# fig.tight_layout()\n",
    "plt.savefig('实验结果对比-准确率.png')\n",
    "plt.show()\n",
    "\n"
   ]
  },
  {
   "cell_type": "code",
   "execution_count": 21,
   "id": "annual-projection",
   "metadata": {
    "ExecuteTime": {
     "end_time": "2021-05-08T03:22:19.032276Z",
     "start_time": "2021-05-08T03:22:18.815876Z"
    }
   },
   "outputs": [
    {
     "data": {
      "image/png": "[encoded data removed]",
      "text/plain": [
       "<Figure size 432x288 with 1 Axes>"
      ]
     },
     "metadata": {
      "needs_background": "light"
     },
     "output_type": "display_data"
    }
   ],
   "source": [
    "n_groups = 6\n",
    "\n",
    "means_cicids = (95.01, 93.37, 96.41, 97.31, 95.16,96.18)\n",
    "std_cicids = (2, 3, 4, 1, 2,2)\n",
    "\n",
    "means_unsw = (96.73, 95.96, 97.82, 94.98, 95.11,95.30)\n",
    "std_unsw = (3, 5, 2, 3, 3,1)\n",
    "\n",
    "means_campus = (83.33, 84.01, 82.54, 63.01, 66.59,69.28)\n",
    "std_campus = (3, 5, 2, 3, 3,1)\n",
    "\n",
    "fig, ax = plt.subplots()\n",
    "\n",
    "index = np.arange(n_groups)\n",
    "bar_width = 0.2\n",
    "\n",
    "opacity = 0.8\n",
    "error_config = {'ecolor': '0.3'}\n",
    "\n",
    "rects1 = ax.bar(index, means_cicids, bar_width,\n",
    "                alpha=opacity, color='red',\n",
    "                yerr=std_cicids, error_kw=error_config,\n",
    "                label='CICIDS2017')\n",
    "\n",
    "rects2 = ax.bar(index + bar_width, means_unsw, bar_width,\n",
    "                alpha=opacity, color='yellow',\n",
    "                yerr=std_unsw, error_kw=error_config,\n",
    "                label='UNSW-NB15')\n",
    "\n",
    "rects3 = ax.bar(index + bar_width * 2, means_campus, bar_width,\n",
    "                alpha=opacity, color='blue',\n",
    "                yerr=std_campus, error_kw=error_config,\n",
    "                label='CAMPUS')\n",
    "\n",
    "ax.set_xlabel('Models')\n",
    "ax.set_ylabel('%')\n",
    "ax.set_title('Recall')\n",
    "ax.set_xticks(index + bar_width / 2)\n",
    "ax.set_xticklabels(('LR', 'DT', 'RF', 'RNN', 'LSTM','GRU'))\n",
    "ax.legend()\n",
    "\n",
    "# fig.tight_layout()\n",
    "plt.savefig('实验结果对比-召回率.png')\n",
    "plt.show()"
   ]
  },
  {
   "cell_type": "code",
   "execution_count": 12,
   "id": "desirable-comparison",
   "metadata": {
    "ExecuteTime": {
     "end_time": "2021-05-08T03:14:35.748927Z",
     "start_time": "2021-05-08T03:14:35.744260Z"
    }
   },
   "outputs": [],
   "source": [
    "p_cicids = [97.01, 97.37, 94.41, 88.31, 91.16,90.18]\n",
    "p_unsw = [94.73, 97.96, 96.82, 93.98, 92.11,94.30]\n",
    "p_campus = [73.33, 74.01, 74.54, 53.01, 56.59,59.28]\n",
    "\n",
    "r_cicids = [95.01, 93.37, 96.41, 97.31, 95.16,96.18]\n",
    "r_unsw = [96.73, 95.96, 97.82, 94.98, 95.11,95.30]\n",
    "r_campus = [83.33, 84.01, 82.54, 63.01, 66.59,69.28]\n",
    "\n",
    "f_cicids = []\n",
    "for i in range(6):\n",
    "    f1 = 2 * p_cicids[i] * r_cicids[i] / (p_cicids[i] + r_cicids[i])\n",
    "    f_cicids.append(round(f1, 2))\n",
    "    \n",
    "f_unsw = []\n",
    "for i in range(6):\n",
    "    f1 = 2 * p_unsw[i] * r_unsw[i] / (p_unsw[i] + r_unsw[i])\n",
    "    f_unsw.append(round(f1, 2))\n",
    "\n",
    "f_campus = []\n",
    "for i in range(6):\n",
    "    f1 = 2 * p_campus[i] * r_campus[i] / (p_campus[i] + r_campus[i])\n",
    "    f_campus.append(round(f1, 2))"
   ]
  },
  {
   "cell_type": "code",
   "execution_count": 14,
   "id": "ahead-strain",
   "metadata": {
    "ExecuteTime": {
     "end_time": "2021-05-08T03:14:58.763695Z",
     "start_time": "2021-05-08T03:14:58.760171Z"
    }
   },
   "outputs": [
    {
     "name": "stdout",
     "output_type": "stream",
     "text": [
      "[96.0, 95.33, 95.4, 92.59, 93.12, 93.08]\n",
      "[95.72, 96.95, 97.32, 94.48, 93.59, 94.8]\n",
      "[78.01, 78.69, 78.34, 57.58, 61.18, 63.89]\n"
     ]
    }
   ],
   "source": [
    "print(f_cicids)\n",
    "print(f_unsw)\n",
    "print(f_campus)"
   ]
  },
  {
   "cell_type": "code",
   "execution_count": 20,
   "id": "toxic-physics",
   "metadata": {
    "ExecuteTime": {
     "end_time": "2021-05-08T03:22:13.472387Z",
     "start_time": "2021-05-08T03:22:13.287713Z"
    }
   },
   "outputs": [
    {
     "data": {
      "image/png": "[encoded data removed]",
      "text/plain": [
       "<Figure size 432x288 with 1 Axes>"
      ]
     },
     "metadata": {
      "needs_background": "light"
     },
     "output_type": "display_data"
    }
   ],
   "source": [
    "n_groups = 6\n",
    "\n",
    "means_cicids = (96.0, 95.33, 95.4, 92.59, 93.12, 93.08)\n",
    "std_cicids = (2, 3, 4, 1, 2,2)\n",
    "\n",
    "means_unsw = (95.72, 96.95, 97.32, 94.48, 93.59, 94.8)\n",
    "std_unsw = (3, 5, 2, 3, 3,1)\n",
    "\n",
    "means_campus = (78.01, 78.69, 78.34, 57.58, 61.18, 63.89)\n",
    "std_campus = (3, 5, 2, 3, 3,1)\n",
    "\n",
    "fig, ax = plt.subplots()\n",
    "\n",
    "index = np.arange(n_groups)\n",
    "bar_width = 0.2\n",
    "\n",
    "opacity = 0.8\n",
    "error_config = {'ecolor': '0.3'}\n",
    "\n",
    "rects1 = ax.bar(index, means_cicids, bar_width,\n",
    "                alpha=opacity, color='red',\n",
    "                yerr=std_cicids, error_kw=error_config,\n",
    "                label='CICIDS2017')\n",
    "\n",
    "rects2 = ax.bar(index + bar_width, means_unsw, bar_width,\n",
    "                alpha=opacity, color='yellow',\n",
    "                yerr=std_unsw, error_kw=error_config,\n",
    "                label='UNSW-NB15')\n",
    "\n",
    "rects3 = ax.bar(index + bar_width * 2, means_campus, bar_width,\n",
    "                alpha=opacity, color='blue',\n",
    "                yerr=std_campus, error_kw=error_config,\n",
    "                label='CAMPUS')\n",
    "\n",
    "ax.set_xlabel('Models')\n",
    "ax.set_ylabel('%')\n",
    "ax.set_title('F1-score')\n",
    "ax.set_xticks(index + bar_width / 2)\n",
    "ax.set_xticklabels(('LR', 'DT', 'RF', 'RNN', 'LSTM','GRU'))\n",
    "ax.legend()\n",
    "\n",
    "# fig.tight_layout()\n",
    "plt.savefig('实验结果对比-F1.png')\n",
    "plt.show()"
   ]
  },
  {
   "cell_type": "code",
   "execution_count": null,
   "id": "changed-graphics",
   "metadata": {},
   "outputs": [],
   "source": [
    "n_groups = 6\n",
    "\n",
    "means_cicids = (96.0, 95.33, 95.4, 92.59, 93.12, 93.08)\n",
    "std_cicids = (2, 3, 4, 1, 2,2)\n",
    "\n",
    "means_unsw = (95.72, 96.95, 97.32, 94.48, 93.59, 94.8)\n",
    "std_unsw = (3, 5, 2, 3, 3,1)\n",
    "\n",
    "means_campus = (78.01, 78.69, 78.34, 57.58, 61.18, 63.89)\n",
    "std_campus = (3, 5, 2, 3, 3,1)\n",
    "\n",
    "fig, ax = plt.subplots()\n",
    "\n",
    "index = np.arange(n_groups)\n",
    "bar_width = 0.2\n",
    "\n",
    "opacity = 0.8\n",
    "error_config = {'ecolor': '0.3'}\n",
    "\n",
    "rects1 = ax.bar(index, means_cicids, bar_width,\n",
    "                alpha=opacity, color='red',\n",
    "                yerr=std_cicids, error_kw=error_config,\n",
    "                label='CICIDS2017')\n",
    "\n",
    "rects2 = ax.bar(index + bar_width, means_unsw, bar_width,\n",
    "                alpha=opacity, color='yellow',\n",
    "                yerr=std_unsw, error_kw=error_config,\n",
    "                label='UNSW-NB15')\n",
    "\n",
    "rects3 = ax.bar(index + bar_width * 2, means_campus, bar_width,\n",
    "                alpha=opacity, color='blue',\n",
    "                yerr=std_campus, error_kw=error_config,\n",
    "                label='CAMPUS')\n",
    "\n",
    "ax.set_xlabel('Models')\n",
    "ax.set_ylabel('s')\n",
    "ax.set_title('Time')\n",
    "ax.set_xticks(index + bar_width / 2)\n",
    "ax.set_xticklabels(('LR', 'DT', 'RF', 'RNN', 'LSTM','GRU'))\n",
    "ax.legend()\n",
    "\n",
    "# fig.tight_layout()\n",
    "plt.savefig('实验结果对比-F1.png')\n",
    "plt.show()"
   ]
  },
  {
   "cell_type": "code",
   "execution_count": 24,
   "id": "considerable-religious",
   "metadata": {
    "ExecuteTime": {
     "end_time": "2021-05-08T08:42:52.234591Z",
     "start_time": "2021-05-08T08:42:52.112215Z"
    }
   },
   "outputs": [
    {
     "data": {
      "image/png": "[encoded data removed]",
      "text/plain": [
       "<Figure size 432x288 with 1 Axes>"
      ]
     },
     "metadata": {
      "needs_background": "light"
     },
     "output_type": "display_data"
    }
   ],
   "source": [
    "import numpy as np\n",
    "import matplotlib.pyplot as plt  \n",
    "x1=[20,33,51,79,101,121,132,145,162,182,203,219,232,243,256,270,287,310,325]\n",
    "y1=[49,48,48,48,48,87,106,123,155,191,233,261,278,284,297,307,341,319,341]\n",
    "x2=[31,52,73,92,101,112,126,140,153,175,186,196,215,230,240,270,288,300]\n",
    "y2=[48,48,48,48,49,89,162,237,302,378,443,472,522,597,628,661,690,702]\n",
    "x3=[30,50,70,90,105,114,128,137,147,159,170,180,190,200,210,230,243,259,284,297,311]\n",
    "y3=[48,48,48,48,66,173,351,472,586,712,804,899,994,1094,1198,1360,1458,1578,1734,1797,1892]\n",
    "x=np.arange(20,350)\n",
    "l1=plt.plot(x1,y1,'r--',label='type1')\n",
    "l2=plt.plot(x2,y2,'g--',label='type2')\n",
    "l3=plt.plot(x3,y3,'b--',label='type3')\n",
    "plt.plot(x1,y1,'ro-',x2,y2,'g+-',x3,y3,'b^-')\n",
    "plt.title('The Lasers in Three Conditions')\n",
    "plt.xlabel('row')\n",
    "plt.ylabel('column')\n",
    "plt.legend()\n",
    "plt.show()\n"
   ]
  },
  {
   "cell_type": "code",
   "execution_count": null,
   "id": "relevant-abortion",
   "metadata": {},
   "outputs": [],
   "source": []
  }
 ],
 "metadata": {
  "kernelspec": {
   "display_name": "Python(py)",
   "language": "python",
   "name": "py"
  },
  "language_info": {
   "codemirror_mode": {
    "name": "ipython",
    "version": 3
   },
   "file_extension": ".py",
   "mimetype": "text/x-python",
   "name": "python",
   "nbconvert_exporter": "python",
   "pygments_lexer": "ipython3",
   "version": "3.8.8"
  }
 },
 "nbformat": 4,
 "nbformat_minor": 5
}
